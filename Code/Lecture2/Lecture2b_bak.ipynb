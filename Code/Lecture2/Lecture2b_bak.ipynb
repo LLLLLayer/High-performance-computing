{
 "cells": [
  {
   "cell_type": "code",
   "execution_count": 1,
   "metadata": {},
   "outputs": [
    {
     "data": {
      "text/plain": [
       "u'/Users/rjl/git/bitbucket/uwhpsc/lectures/lecture6'"
      ]
     },
     "execution_count": 1,
     "metadata": {},
     "output_type": "execute_result"
    }
   ],
   "source": [
    "pwd"
   ]
  },
  {
   "cell_type": "code",
   "execution_count": 2,
   "metadata": {},
   "outputs": [],
   "source": [
    "import mysqrt"
   ]
  },
  {
   "cell_type": "code",
   "execution_count": 3,
   "metadata": {},
   "outputs": [
    {
     "name": "stdout",
     "output_type": "stream",
     "text": [
      "Testing with x = 0.000000000000000e+00\n",
      "  s = 0.000000000000000e+00,  numpy.sqrt = 0.000000000000000e+00\n",
      "Testing with x = 2.000000000000000e+00\n",
      "  s = 1.414213562373095e+00,  numpy.sqrt = 1.414213562373095e+00\n",
      "Testing with x = 1.000000000000000e+02\n",
      "  s = 1.000000000000000e+01,  numpy.sqrt = 1.000000000000000e+01\n",
      "Testing with x = 1.000000000000000e+04\n",
      "  s = 1.000000000000000e+02,  numpy.sqrt = 1.000000000000000e+02\n",
      "Testing with x = 1.000000000000000e-04\n",
      "  s = 1.000000000000000e-02,  numpy.sqrt = 1.000000000000000e-02\n"
     ]
    }
   ],
   "source": [
    "mysqrt.test()"
   ]
  },
  {
   "cell_type": "code",
   "execution_count": 4,
   "metadata": {},
   "outputs": [
    {
     "name": "stdout",
     "output_type": "stream",
     "text": [
      "Running test... \n",
      "Testing with x = 0.000000000000000e+00\n",
      "  s = 0.000000000000000e+00,  numpy.sqrt = 0.000000000000000e+00\n",
      "Testing with x = 2.000000000000000e+00\n",
      "  s = 1.414213562373095e+00,  numpy.sqrt = 1.414213562373095e+00\n",
      "Testing with x = 1.000000000000000e+02\n",
      "  s = 1.000000000000000e+01,  numpy.sqrt = 1.000000000000000e+01\n",
      "Testing with x = 1.000000000000000e+04\n",
      "  s = 1.000000000000000e+02,  numpy.sqrt = 1.000000000000000e+02\n",
      "Testing with x = 1.000000000000000e-04\n",
      "  s = 1.000000000000000e-02,  numpy.sqrt = 1.000000000000000e-02\n"
     ]
    }
   ],
   "source": [
    "run mysqrt.py"
   ]
  },
  {
   "cell_type": "code",
   "execution_count": 5,
   "metadata": {},
   "outputs": [
    {
     "data": {
      "text/plain": [
       "'mysqrt'"
      ]
     },
     "execution_count": 5,
     "metadata": {},
     "output_type": "execute_result"
    }
   ],
   "source": [
    "mysqrt.__name__"
   ]
  },
  {
   "cell_type": "code",
   "execution_count": 6,
   "metadata": {},
   "outputs": [
    {
     "name": "stdout",
     "output_type": "stream",
     "text": [
      "CPU times: user 0.00 s, sys: 0.00 s, total: 0.00 s\n",
      "Wall time: 0.00 s\n"
     ]
    },
    {
     "data": {
      "text/plain": [
       "1.4142135623730951"
      ]
     },
     "execution_count": 6,
     "metadata": {},
     "output_type": "execute_result"
    }
   ],
   "source": [
    "time sqrt(2.)"
   ]
  },
  {
   "cell_type": "code",
   "execution_count": 7,
   "metadata": {},
   "outputs": [
    {
     "name": "stdout",
     "output_type": "stream",
     "text": [
      "100000 loops, best of 3: 2.01 us per loop\n"
     ]
    }
   ],
   "source": [
    "timeit sqrt(2.)"
   ]
  },
  {
   "cell_type": "markdown",
   "metadata": {},
   "source": [
    "us means micro-seconds, 1e-6 second"
   ]
  },
  {
   "cell_type": "code",
   "execution_count": 9,
   "metadata": {},
   "outputs": [
    {
     "name": "stdout",
     "output_type": "stream",
     "text": [
      "100000 loops, best of 3: 5.94 us per loop\n"
     ]
    }
   ],
   "source": [
    "timeit mysqrt.sqrt2(2.)"
   ]
  },
  {
   "cell_type": "code",
   "execution_count": 10,
   "metadata": {},
   "outputs": [
    {
     "name": "stdout",
     "output_type": "stream",
     "text": [
      "10000 loops, best of 3: 20.5 us per loop\n"
     ]
    }
   ],
   "source": [
    "timeit y = sqrt(linspace(0,1,1000))"
   ]
  },
  {
   "cell_type": "code",
   "execution_count": 11,
   "metadata": {},
   "outputs": [
    {
     "name": "stdout",
     "output_type": "stream",
     "text": [
      "100 loops, best of 3: 3.02 ms per loop\n"
     ]
    }
   ],
   "source": [
    "%%timeit\n",
    "y = zeros(1000)\n",
    "for i in range(1000):\n",
    "    y[i] = sqrt(i)"
   ]
  },
  {
   "cell_type": "markdown",
   "metadata": {},
   "source": [
    "ms = millisecond = 1e-3 second = 1000 micro seconds"
   ]
  },
  {
   "cell_type": "code",
   "execution_count": null,
   "metadata": {},
   "outputs": [],
   "source": []
  }
 ],
 "metadata": {
  "kernelspec": {
   "display_name": "Python 2",
   "language": "python",
   "name": "python2"
  },
  "language_info": {
   "codemirror_mode": {
    "name": "ipython",
    "version": 2
   },
   "file_extension": ".py",
   "mimetype": "text/x-python",
   "name": "python",
   "nbconvert_exporter": "python",
   "pygments_lexer": "ipython2",
   "version": "2.7.15rc1"
  }
 },
 "nbformat": 4,
 "nbformat_minor": 1
}
